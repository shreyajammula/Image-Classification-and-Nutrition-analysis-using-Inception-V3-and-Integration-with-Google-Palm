{
 "cells": [
  {
   "cell_type": "markdown",
   "id": "5ccfa197",
   "metadata": {},
   "source": [
    "### Importing necessary Modules"
   ]
  },
  {
   "cell_type": "code",
   "execution_count": 1,
   "id": "3d410c09",
   "metadata": {},
   "outputs": [],
   "source": [
    "import tensorflow as tf\n",
    "from tensorflow.keras.models import load_model"
   ]
  },
  {
   "cell_type": "markdown",
   "id": "2c806e6d",
   "metadata": {},
   "source": [
    "### Load the saved model"
   ]
  },
  {
   "cell_type": "code",
   "execution_count": 2,
   "id": "5854fbc8",
   "metadata": {},
   "outputs": [],
   "source": [
    "model = load_model('inceptionv3_food.h5')"
   ]
  },
  {
   "cell_type": "markdown",
   "id": "61af8680",
   "metadata": {},
   "source": [
    "Set the parameters for further fine-tuning"
   ]
  },
  {
   "cell_type": "code",
   "execution_count": 3,
   "id": "8ae3213d",
   "metadata": {},
   "outputs": [],
   "source": [
    "epochs_fine_tune = 5\n",
    "\n",
    "# Unfreeze the top layers of the model for fine-tuning\n",
    "for layer in model.layers:\n",
    "    layer.trainable = True"
   ]
  },
  {
   "cell_type": "markdown",
   "id": "c81e6352",
   "metadata": {},
   "source": [
    " Loading Training and validation data from Dataset"
   ]
  },
  {
   "cell_type": "code",
   "execution_count": 6,
   "id": "679e8b9c",
   "metadata": {},
   "outputs": [],
   "source": [
    "train_data_dir='food_dataset\\\\train'\n",
    "validation_data_dir='food_dataset\\\\validation'"
   ]
  },
  {
   "cell_type": "code",
   "execution_count": 8,
   "id": "2d63f073",
   "metadata": {},
   "outputs": [],
   "source": [
    "from tensorflow.keras.preprocessing.image import ImageDataGenerator"
   ]
  },
  {
   "cell_type": "code",
   "execution_count": 10,
   "id": "e00089a4",
   "metadata": {},
   "outputs": [],
   "source": [
    "# Set the parameters\n",
    "batch_size = 32\n",
    "epochs = 10\n",
    "image_size = (224, 224)"
   ]
  },
  {
   "cell_type": "code",
   "execution_count": 11,
   "id": "d5cd0b85",
   "metadata": {},
   "outputs": [
    {
     "name": "stdout",
     "output_type": "stream",
     "text": [
      "Found 3115 images belonging to 36 classes.\n",
      "Found 351 images belonging to 36 classes.\n"
     ]
    }
   ],
   "source": [
    "train_datagen = ImageDataGenerator(\n",
    "    rescale=1./255,\n",
    "    rotation_range=20,\n",
    "    width_shift_range=0.2,\n",
    "    height_shift_range=0.2,\n",
    "    shear_range=0.2,\n",
    "    zoom_range=0.2,\n",
    "    horizontal_flip=True,\n",
    "    fill_mode='nearest')\n",
    "\n",
    "test_datagen = ImageDataGenerator(rescale=1./255)\n",
    "\n",
    "train_generator = train_datagen.flow_from_directory(\n",
    "    train_data_dir,\n",
    "    target_size=image_size,\n",
    "    batch_size=batch_size,\n",
    "    class_mode='categorical')\n",
    "\n",
    "validation_generator = test_datagen.flow_from_directory(\n",
    "    validation_data_dir,\n",
    "    target_size=image_size,\n",
    "    batch_size=batch_size,\n",
    "    class_mode='categorical')"
   ]
  },
  {
   "cell_type": "markdown",
   "id": "77946b08",
   "metadata": {},
   "source": [
    "Recompile the model"
   ]
  },
  {
   "cell_type": "code",
   "execution_count": 12,
   "id": "9588e5e0",
   "metadata": {},
   "outputs": [],
   "source": [
    "model.compile(optimizer=tf.keras.optimizers.Adam(learning_rate=0.0001), loss='categorical_crossentropy', metrics=['accuracy'])"
   ]
  },
  {
   "cell_type": "markdown",
   "id": "78ed1723",
   "metadata": {},
   "source": [
    "### fine-tuning the model"
   ]
  },
  {
   "cell_type": "code",
   "execution_count": 13,
   "id": "f9c007e1",
   "metadata": {},
   "outputs": [
    {
     "name": "stdout",
     "output_type": "stream",
     "text": [
      "Epoch 1/5\n",
      "12/98 [==>...........................] - ETA: 6:25 - loss: 0.7370 - accuracy: 0.7631"
     ]
    },
    {
     "name": "stderr",
     "output_type": "stream",
     "text": [
      "C:\\Users\\kommi\\anaconda3\\envs\\Tf-new\\lib\\site-packages\\PIL\\Image.py:970: UserWarning: Palette images with Transparency expressed in bytes should be converted to RGBA images\n",
      "  warnings.warn(\n"
     ]
    },
    {
     "name": "stdout",
     "output_type": "stream",
     "text": [
      "98/98 [==============================] - 597s 6s/step - loss: 0.5434 - accuracy: 0.8241 - val_loss: 0.2096 - val_accuracy: 0.9231\n",
      "Epoch 2/5\n",
      "98/98 [==============================] - 482s 5s/step - loss: 0.3784 - accuracy: 0.8716 - val_loss: 0.1907 - val_accuracy: 0.9345\n",
      "Epoch 3/5\n",
      "98/98 [==============================] - 555s 6s/step - loss: 0.3228 - accuracy: 0.8889 - val_loss: 0.1792 - val_accuracy: 0.9459\n",
      "Epoch 4/5\n",
      "98/98 [==============================] - 519s 5s/step - loss: 0.2934 - accuracy: 0.8973 - val_loss: 0.1904 - val_accuracy: 0.9373\n",
      "Epoch 5/5\n",
      "98/98 [==============================] - 493s 5s/step - loss: 0.2823 - accuracy: 0.9024 - val_loss: 0.1772 - val_accuracy: 0.9573\n"
     ]
    }
   ],
   "source": [
    "history_fine_tune = model.fit(train_generator, eponchs=epochs_fine_tune, validation_data=validation_generator)"
   ]
  },
  {
   "cell_type": "markdown",
   "id": "1d066afa",
   "metadata": {},
   "source": [
    "### Save the fine-tuned model"
   ]
  },
  {
   "cell_type": "code",
   "execution_count": 14,
   "id": "dc0bc3bf",
   "metadata": {},
   "outputs": [],
   "source": [
    "model.save('finetuned_inceptionv3_model.h5')"
   ]
  },
  {
   "cell_type": "code",
   "execution_count": null,
   "id": "26d45af8",
   "metadata": {},
   "outputs": [],
   "source": [
    "model.save_weights('finetuned_inceptionv3_weights_model.h5')"
   ]
  },
  {
   "cell_type": "markdown",
   "id": "f5a6fb34",
   "metadata": {},
   "source": [
    "### Testing Fine-tuned model using Test data"
   ]
  },
  {
   "cell_type": "code",
   "execution_count": 17,
   "id": "af74acc3",
   "metadata": {},
   "outputs": [],
   "source": [
    "test_data_dir='food_dataset\\\\test'"
   ]
  },
  {
   "cell_type": "code",
   "execution_count": 18,
   "id": "9e8940ce",
   "metadata": {},
   "outputs": [
    {
     "name": "stdout",
     "output_type": "stream",
     "text": [
      "Found 359 images belonging to 36 classes.\n",
      "12/12 [==============================] - 62s 5s/step - loss: 0.1737 - accuracy: 0.9582\n",
      "Test loss: 0.17369197309017181, Test accuracy: 0.9582172632217407\n"
     ]
    }
   ],
   "source": [
    "test_generator = test_datagen.flow_from_directory(\n",
    "    test_data_dir,\n",
    "    target_size=image_size,\n",
    "    batch_size=batch_size,\n",
    "    class_mode='categorical')\n",
    "\n",
    "# Evaluate the fine-tuned model on the test data\n",
    "loss, accuracy = model.evaluate(test_generator)\n",
    "print(f'Test loss: {loss}, Test accuracy: {accuracy}')"
   ]
  },
  {
   "cell_type": "markdown",
   "id": "729db321",
   "metadata": {},
   "source": [
    "### Accuracy has increased to 95 compared to 67 before fine-tuning , so we will use this model for predicting new images"
   ]
  },
  {
   "cell_type": "code",
   "execution_count": null,
   "id": "0e46ea55",
   "metadata": {},
   "outputs": [],
   "source": []
  }
 ],
 "metadata": {
  "kernelspec": {
   "display_name": "Python 3 (ipykernel)",
   "language": "python",
   "name": "python3"
  },
  "language_info": {
   "codemirror_mode": {
    "name": "ipython",
    "version": 3
   },
   "file_extension": ".py",
   "mimetype": "text/x-python",
   "name": "python",
   "nbconvert_exporter": "python",
   "pygments_lexer": "ipython3",
   "version": "3.10.13"
  }
 },
 "nbformat": 4,
 "nbformat_minor": 5
}
