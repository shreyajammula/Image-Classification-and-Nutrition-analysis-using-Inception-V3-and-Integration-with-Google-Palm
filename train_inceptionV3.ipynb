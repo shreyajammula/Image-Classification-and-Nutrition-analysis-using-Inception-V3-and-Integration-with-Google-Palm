{
 "cells": [
  {
   "cell_type": "markdown",
   "id": "1fd31c02",
   "metadata": {},
   "source": [
    "## Importing necessary Datasets"
   ]
  },
  {
   "cell_type": "code",
   "execution_count": 1,
   "id": "989930b1",
   "metadata": {},
   "outputs": [],
   "source": [
    "import tensorflow as tf\n",
    "import numpy as np\n",
    "import pandas as pd"
   ]
  },
  {
   "cell_type": "code",
   "execution_count": 3,
   "id": "abcd34fb",
   "metadata": {},
   "outputs": [],
   "source": [
    "from tensorflow.keras.applications import InceptionV3"
   ]
  },
  {
   "cell_type": "code",
   "execution_count": 4,
   "id": "f2ffdf3d",
   "metadata": {},
   "outputs": [],
   "source": [
    "from tensorflow.keras.layers import Dense, GlobalAveragePooling2D\n",
    "from tensorflow.keras.models import Model\n",
    "from tensorflow.keras.preprocessing.image import ImageDataGenerator"
   ]
  },
  {
   "cell_type": "markdown",
   "id": "b0daec47",
   "metadata": {},
   "source": [
    "Setting the parameters"
   ]
  },
  {
   "cell_type": "code",
   "execution_count": 5,
   "id": "5cea152f",
   "metadata": {},
   "outputs": [],
   "source": [
    "batch_size = 32\n",
    "epochs = 10\n",
    "image_size = (224, 224)"
   ]
  },
  {
   "cell_type": "markdown",
   "id": "4d97aa8c",
   "metadata": {},
   "source": [
    "## Loading Data from Dataset"
   ]
  },
  {
   "cell_type": "code",
   "execution_count": 6,
   "id": "d5a1d7bd",
   "metadata": {},
   "outputs": [],
   "source": [
    "train_data_dir = 'food_dataset\\\\train'\n",
    "validation_data_dir = 'food_dataset\\\\validation'\n",
    "test_data_dir = 'food_dataset\\\\test'"
   ]
  },
  {
   "cell_type": "markdown",
   "id": "bd22730b",
   "metadata": {},
   "source": [
    "### Data augmentation and preprocessing"
   ]
  },
  {
   "cell_type": "code",
   "execution_count": 7,
   "id": "3829255d",
   "metadata": {},
   "outputs": [],
   "source": [
    "train_datagen = ImageDataGenerator(rescale=1. / 255, shear_range=0.2, zoom_range=0.2, horizontal_flip=True)\n",
    "test_datagen = ImageDataGenerator(rescale=1. / 255)"
   ]
  },
  {
   "cell_type": "code",
   "execution_count": 8,
   "id": "ce8819fe",
   "metadata": {},
   "outputs": [
    {
     "name": "stdout",
     "output_type": "stream",
     "text": [
      "Found 3115 images belonging to 36 classes.\n"
     ]
    }
   ],
   "source": [
    "train_generator = train_datagen.flow_from_directory(\n",
    "    train_data_dir,\n",
    "    target_size=image_size,\n",
    "    batch_size=batch_size,\n",
    "    class_mode='categorical')"
   ]
  },
  {
   "cell_type": "code",
   "execution_count": 9,
   "id": "b9324180",
   "metadata": {},
   "outputs": [
    {
     "name": "stdout",
     "output_type": "stream",
     "text": [
      "Found 351 images belonging to 36 classes.\n"
     ]
    }
   ],
   "source": [
    "validation_generator = test_datagen.flow_from_directory(\n",
    "    validation_data_dir,\n",
    "    target_size=image_size,\n",
    "    batch_size=batch_size,\n",
    "    class_mode='categorical')"
   ]
  },
  {
   "cell_type": "markdown",
   "id": "57b8d96a",
   "metadata": {},
   "source": [
    "These Data Generators are useful when dealing with loading large batches of images like here "
   ]
  },
  {
   "cell_type": "markdown",
   "id": "7a41702a",
   "metadata": {},
   "source": [
    "## Loading Pre-trained Inception V3 model "
   ]
  },
  {
   "cell_type": "markdown",
   "id": "fdcc98e3",
   "metadata": {},
   "source": [
    "Load the InceptionV3 model"
   ]
  },
  {
   "cell_type": "code",
   "execution_count": 10,
   "id": "f9a7da5c",
   "metadata": {},
   "outputs": [
    {
     "name": "stdout",
     "output_type": "stream",
     "text": [
      "Downloading data from https://storage.googleapis.com/tensorflow/keras-applications/inception_v3/inception_v3_weights_tf_dim_ordering_tf_kernels_notop.h5\n",
      "87910968/87910968 [==============================] - 9s 0us/step\n"
     ]
    }
   ],
   "source": [
    "base_model = InceptionV3(weights='imagenet', include_top=False)"
   ]
  },
  {
   "cell_type": "markdown",
   "id": "2b298fca",
   "metadata": {},
   "source": [
    "Add custom layers for classification task"
   ]
  },
  {
   "cell_type": "code",
   "execution_count": 11,
   "id": "633b3aae",
   "metadata": {},
   "outputs": [],
   "source": [
    "x = base_model.output\n",
    "x = GlobalAveragePooling2D()(x)\n",
    "x = Dense(1024, activation='relu')(x)\n",
    "predictions = Dense(len(train_generator.class_indices), activation='softmax')(x)"
   ]
  },
  {
   "cell_type": "markdown",
   "id": "009a89bf",
   "metadata": {},
   "source": [
    "Combine the base model with custom layers"
   ]
  },
  {
   "cell_type": "code",
   "execution_count": 12,
   "id": "02aed873",
   "metadata": {},
   "outputs": [],
   "source": [
    "model = Model(inputs=base_model.input, outputs=predictions)"
   ]
  },
  {
   "cell_type": "markdown",
   "id": "f8c6c998",
   "metadata": {},
   "source": [
    "Compile the model"
   ]
  },
  {
   "cell_type": "code",
   "execution_count": 13,
   "id": "d93531f9",
   "metadata": {},
   "outputs": [],
   "source": [
    "model.compile(optimizer='adam', loss='categorical_crossentropy', metrics=['accuracy'])"
   ]
  },
  {
   "cell_type": "markdown",
   "id": "c4e97bcc",
   "metadata": {},
   "source": [
    "### Model Training"
   ]
  },
  {
   "cell_type": "markdown",
   "id": "c3db59a6",
   "metadata": {},
   "source": [
    "Train the model"
   ]
  },
  {
   "cell_type": "code",
   "execution_count": 14,
   "id": "c62a601f",
   "metadata": {},
   "outputs": [
    {
     "name": "stdout",
     "output_type": "stream",
     "text": [
      "Epoch 1/10\n",
      "10/98 [==>...........................] - ETA: 8:03 - loss: 3.5218 - accuracy: 0.1656"
     ]
    },
    {
     "name": "stderr",
     "output_type": "stream",
     "text": [
      "C:\\Users\\kommi\\anaconda3\\envs\\Tf-new\\lib\\site-packages\\PIL\\Image.py:970: UserWarning: Palette images with Transparency expressed in bytes should be converted to RGBA images\n",
      "  warnings.warn(\n"
     ]
    },
    {
     "name": "stdout",
     "output_type": "stream",
     "text": [
      "98/98 [==============================] - 698s 7s/step - loss: 2.3010 - accuracy: 0.3759 - val_loss: 7.2991 - val_accuracy: 0.1311\n",
      "Epoch 2/10\n",
      "98/98 [==============================] - 548s 6s/step - loss: 1.5185 - accuracy: 0.5596 - val_loss: 8.6640 - val_accuracy: 0.1795\n",
      "Epoch 3/10\n",
      "98/98 [==============================] - 562s 6s/step - loss: 1.2202 - accuracy: 0.6302 - val_loss: 4.1449 - val_accuracy: 0.3590\n",
      "Epoch 4/10\n",
      "98/98 [==============================] - 500s 5s/step - loss: 1.0631 - accuracy: 0.6844 - val_loss: 2.2638 - val_accuracy: 0.4501\n",
      "Epoch 5/10\n",
      "98/98 [==============================] - 514s 5s/step - loss: 0.9551 - accuracy: 0.7130 - val_loss: 1.2652 - val_accuracy: 0.6838\n",
      "Epoch 6/10\n",
      "98/98 [==============================] - 494s 5s/step - loss: 0.8114 - accuracy: 0.7457 - val_loss: 1.1222 - val_accuracy: 0.6838\n",
      "Epoch 7/10\n",
      "98/98 [==============================] - 474s 5s/step - loss: 0.8108 - accuracy: 0.7432 - val_loss: 1.8140 - val_accuracy: 0.5014\n",
      "Epoch 8/10\n",
      "98/98 [==============================] - 461s 5s/step - loss: 0.7084 - accuracy: 0.7740 - val_loss: 1.2783 - val_accuracy: 0.6325\n",
      "Epoch 9/10\n",
      "98/98 [==============================] - 481s 5s/step - loss: 0.6109 - accuracy: 0.7994 - val_loss: 0.6306 - val_accuracy: 0.8091\n",
      "Epoch 10/10\n",
      "98/98 [==============================] - 456s 5s/step - loss: 0.5943 - accuracy: 0.7949 - val_loss: 1.4066 - val_accuracy: 0.6667\n"
     ]
    },
    {
     "data": {
      "text/plain": [
       "<keras.callbacks.History at 0x25a49c77e80>"
      ]
     },
     "execution_count": 14,
     "metadata": {},
     "output_type": "execute_result"
    }
   ],
   "source": [
    "model.fit(train_generator, epochs=epochs, validation_data=validation_generator)"
   ]
  },
  {
   "cell_type": "markdown",
   "id": "3f1132e8",
   "metadata": {},
   "source": [
    "### Saving Model"
   ]
  },
  {
   "cell_type": "code",
   "execution_count": 15,
   "id": "5d1094ab",
   "metadata": {},
   "outputs": [],
   "source": [
    "model.save('inceptionv3_food.h5')"
   ]
  },
  {
   "cell_type": "code",
   "execution_count": 16,
   "id": "44b1f2ed",
   "metadata": {},
   "outputs": [],
   "source": [
    "model.save_weights('inceptionv3_food_weights.h5')"
   ]
  },
  {
   "cell_type": "markdown",
   "id": "16047b88",
   "metadata": {},
   "source": [
    "### Testing Model"
   ]
  },
  {
   "cell_type": "markdown",
   "id": "06ad9b1a",
   "metadata": {},
   "source": [
    "Evaluate the model on the test data"
   ]
  },
  {
   "cell_type": "code",
   "execution_count": 17,
   "id": "857a8e51",
   "metadata": {},
   "outputs": [
    {
     "name": "stdout",
     "output_type": "stream",
     "text": [
      "Found 359 images belonging to 36 classes.\n"
     ]
    }
   ],
   "source": [
    "test_generator = test_datagen.flow_from_directory(\n",
    "    test_data_dir,\n",
    "    target_size=image_size,\n",
    "    batch_size=batch_size,\n",
    "    class_mode='categorical')"
   ]
  },
  {
   "cell_type": "code",
   "execution_count": 18,
   "id": "c68b6889",
   "metadata": {},
   "outputs": [
    {
     "name": "stdout",
     "output_type": "stream",
     "text": [
      "12/12 [==============================] - 57s 5s/step - loss: 1.3824 - accuracy: 0.6741\n",
      "Test loss: 1.3823548555374146, Test accuracy: 0.6740947365760803\n"
     ]
    }
   ],
   "source": [
    "loss, accuracy = model.evaluate(test_generator)\n",
    "print(f'Test loss: {loss}, Test accuracy: {accuracy}')"
   ]
  },
  {
   "cell_type": "markdown",
   "id": "7123604d",
   "metadata": {},
   "source": [
    "### Observation:\n",
    "### As seen here accuracy isn't great so we will fine tune it and train more to increase accuracy\n"
   ]
  },
  {
   "cell_type": "code",
   "execution_count": null,
   "id": "4ca96b3d",
   "metadata": {},
   "outputs": [],
   "source": []
  }
 ],
 "metadata": {
  "kernelspec": {
   "display_name": "Python 3 (ipykernel)",
   "language": "python",
   "name": "python3"
  },
  "language_info": {
   "codemirror_mode": {
    "name": "ipython",
    "version": 3
   },
   "file_extension": ".py",
   "mimetype": "text/x-python",
   "name": "python",
   "nbconvert_exporter": "python",
   "pygments_lexer": "ipython3",
   "version": "3.10.13"
  }
 },
 "nbformat": 4,
 "nbformat_minor": 5
}
